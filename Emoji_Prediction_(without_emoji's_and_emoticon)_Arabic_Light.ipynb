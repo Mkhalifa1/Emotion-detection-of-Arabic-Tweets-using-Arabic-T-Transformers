{
 "cells": [
  {
   "cell_type": "code",
   "execution_count": 1,
   "id": "d462162b",
   "metadata": {
    "colab": {
     "base_uri": "https://localhost:8080/"
    },
    "id": "d462162b",
    "outputId": "3ee5c521-c81e-400f-dd90-c263ce6d9f59"
   },
   "outputs": [
    {
     "name": "stdout",
     "output_type": "stream",
     "text": [
      "Requirement already satisfied: nltk in c:\\users\\khalifa\\anaconda3\\lib\\site-packages (3.6.1)\n",
      "Requirement already satisfied: joblib in c:\\users\\khalifa\\anaconda3\\lib\\site-packages (from nltk) (1.0.1)\n",
      "Requirement already satisfied: tqdm in c:\\users\\khalifa\\anaconda3\\lib\\site-packages (from nltk) (4.59.0)\n",
      "Requirement already satisfied: regex in c:\\users\\khalifa\\anaconda3\\lib\\site-packages (from nltk) (2021.4.4)\n",
      "Requirement already satisfied: click in c:\\users\\khalifa\\anaconda3\\lib\\site-packages (from nltk) (7.1.2)\n",
      "Requirement already satisfied: emoji in c:\\users\\khalifa\\anaconda3\\lib\\site-packages (2.1.0)\n",
      "Requirement already satisfied: Arabic-Stopwords in c:\\users\\khalifa\\anaconda3\\lib\\site-packages (0.3)\n",
      "Requirement already satisfied: pyarabic>=0.6.2 in c:\\users\\khalifa\\anaconda3\\lib\\site-packages (from Arabic-Stopwords) (0.6.15)\n",
      "Requirement already satisfied: six>=1.14.0 in c:\\users\\khalifa\\anaconda3\\lib\\site-packages (from pyarabic>=0.6.2->Arabic-Stopwords) (1.15.0)\n",
      "Requirement already satisfied: PyArabic in c:\\users\\khalifa\\anaconda3\\lib\\site-packages (0.6.15)\n",
      "Requirement already satisfied: six>=1.14.0 in c:\\users\\khalifa\\anaconda3\\lib\\site-packages (from PyArabic) (1.15.0)\n",
      "Requirement already satisfied: Tashaphyne in c:\\users\\khalifa\\anaconda3\\lib\\site-packages (0.3.6)\n",
      "Requirement already satisfied: pyarabic in c:\\users\\khalifa\\anaconda3\\lib\\site-packages (from Tashaphyne) (0.6.15)\n",
      "Requirement already satisfied: six>=1.14.0 in c:\\users\\khalifa\\anaconda3\\lib\\site-packages (from pyarabic->Tashaphyne) (1.15.0)\n",
      "Requirement already satisfied: translate in c:\\users\\khalifa\\anaconda3\\lib\\site-packages (3.6.1)\n",
      "Requirement already satisfied: libretranslatepy==2.1.1 in c:\\users\\khalifa\\anaconda3\\lib\\site-packages (from translate) (2.1.1)\n",
      "Requirement already satisfied: lxml in c:\\users\\khalifa\\anaconda3\\lib\\site-packages (from translate) (4.6.3)\n",
      "Requirement already satisfied: requests in c:\\users\\khalifa\\anaconda3\\lib\\site-packages (from translate) (2.25.1)\n",
      "Requirement already satisfied: click in c:\\users\\khalifa\\anaconda3\\lib\\site-packages (from translate) (7.1.2)\n",
      "Requirement already satisfied: chardet<5,>=3.0.2 in c:\\users\\khalifa\\anaconda3\\lib\\site-packages (from requests->translate) (4.0.0)\n",
      "Requirement already satisfied: urllib3<1.27,>=1.21.1 in c:\\users\\khalifa\\anaconda3\\lib\\site-packages (from requests->translate) (1.26.4)\n",
      "Requirement already satisfied: idna<3,>=2.5 in c:\\users\\khalifa\\anaconda3\\lib\\site-packages (from requests->translate) (2.10)\n",
      "Requirement already satisfied: certifi>=2017.4.17 in c:\\users\\khalifa\\anaconda3\\lib\\site-packages (from requests->translate) (2020.12.5)\n",
      "Requirement already satisfied: transformers in c:\\users\\khalifa\\anaconda3\\lib\\site-packages (4.22.1)\n",
      "Requirement already satisfied: tokenizers!=0.11.3,<0.13,>=0.11.1 in c:\\users\\khalifa\\anaconda3\\lib\\site-packages (from transformers) (0.12.1)\n",
      "Requirement already satisfied: numpy>=1.17 in c:\\users\\khalifa\\anaconda3\\lib\\site-packages (from transformers) (1.20.1)\n",
      "Requirement already satisfied: pyyaml>=5.1 in c:\\users\\khalifa\\anaconda3\\lib\\site-packages (from transformers) (5.4.1)\n",
      "Requirement already satisfied: packaging>=20.0 in c:\\users\\khalifa\\anaconda3\\lib\\site-packages (from transformers) (20.9)\n",
      "Requirement already satisfied: regex!=2019.12.17 in c:\\users\\khalifa\\anaconda3\\lib\\site-packages (from transformers) (2021.4.4)\n",
      "Requirement already satisfied: tqdm>=4.27 in c:\\users\\khalifa\\anaconda3\\lib\\site-packages (from transformers) (4.59.0)\n",
      "Requirement already satisfied: requests in c:\\users\\khalifa\\anaconda3\\lib\\site-packages (from transformers) (2.25.1)\n",
      "Requirement already satisfied: huggingface-hub<1.0,>=0.9.0 in c:\\users\\khalifa\\anaconda3\\lib\\site-packages (from transformers) (0.9.1)\n",
      "Requirement already satisfied: filelock in c:\\users\\khalifa\\anaconda3\\lib\\site-packages (from transformers) (3.0.12)\n",
      "Requirement already satisfied: typing-extensions>=3.7.4.3 in c:\\users\\khalifa\\anaconda3\\lib\\site-packages (from huggingface-hub<1.0,>=0.9.0->transformers) (3.7.4.3)\n",
      "Requirement already satisfied: pyparsing>=2.0.2 in c:\\users\\khalifa\\anaconda3\\lib\\site-packages (from packaging>=20.0->transformers) (2.4.7)\n",
      "Requirement already satisfied: idna<3,>=2.5 in c:\\users\\khalifa\\anaconda3\\lib\\site-packages (from requests->transformers) (2.10)\n",
      "Requirement already satisfied: certifi>=2017.4.17 in c:\\users\\khalifa\\anaconda3\\lib\\site-packages (from requests->transformers) (2020.12.5)\n",
      "Requirement already satisfied: urllib3<1.27,>=1.21.1 in c:\\users\\khalifa\\anaconda3\\lib\\site-packages (from requests->transformers) (1.26.4)\n",
      "Requirement already satisfied: chardet<5,>=3.0.2 in c:\\users\\khalifa\\anaconda3\\lib\\site-packages (from requests->transformers) (4.0.0)\n"
     ]
    }
   ],
   "source": [
    "#!pip install nltk\n",
    "#!pip install emoji\n",
    "#!pip install Arabic-Stopwords\n",
    "#!pip install PyArabic\n",
    "#!pip install Tashaphyne\n",
    "#!pip install translate\n",
    "#!pip install transformers"
   ]
  },
  {
   "cell_type": "code",
   "execution_count": 2,
   "id": "15b51f13",
   "metadata": {
    "colab": {
     "base_uri": "https://localhost:8080/"
    },
    "id": "15b51f13",
    "outputId": "31ca0c25-1055-46ff-8c0e-4402987416c7"
   },
   "outputs": [
    {
     "name": "stderr",
     "output_type": "stream",
     "text": [
      "[nltk_data] Downloading package stopwords to\n",
      "[nltk_data]     C:\\Users\\Khalifa\\AppData\\Roaming\\nltk_data...\n",
      "[nltk_data]   Package stopwords is already up-to-date!\n"
     ]
    }
   ],
   "source": [
    "#importing libaraires\n",
    "\n",
    "# Add environment Packages paths to conda\n",
    "import os, sys, warnings\n",
    "import pandas as pd\n",
    "import numpy as np\n",
    "warnings.simplefilter(\"ignore\")\n",
    "\n",
    "# Text preprocessing packages\n",
    "import nltk # Text libarary\n",
    "# nltk.download('stopwords')\n",
    "import string # Removing special characters {#, @, ...}\n",
    "import re # Regex Package\n",
    "import regex\n",
    "import emoji\n",
    "# Corpora is a group presenting multiple collections of text documents. A single collection is called corpus.\n",
    "from nltk.corpus import stopwords # Stopwords\n",
    "nltk.download('stopwords')\n",
    "import arabicstopwords.arabicstopwords as stp #more range of arabic stop words\n",
    "from nltk.stem.isri import ISRIStemmer\n",
    "import pyarabic.araby as araby\n",
    "from tashaphyne.stemming import ArabicLightStemmer\n",
    "\n",
    "from nltk.stem import SnowballStemmer, WordNetLemmatizer # Stemmer & Lemmatizer\n",
    "#from gensim.utils import simple_preprocess  # Text ==> List of Tokens\n",
    "\n",
    "# Text Embedding\n",
    "from sklearn.feature_extraction.text import TfidfVectorizer\n",
    "from sklearn.feature_extraction.text import CountVectorizer\n",
    "\n",
    "# Modelling\n",
    "from sklearn.model_selection import train_test_split,KFold, GridSearchCV\n",
    "from sklearn.ensemble import RandomForestClassifier\n",
    "from sklearn.linear_model import LogisticRegression\n",
    "from sklearn.tree import DecisionTreeClassifier\n",
    "from sklearn.ensemble import RandomForestClassifier\n",
    "from sklearn.metrics import accuracy_score,confusion_matrix, classification_report\n",
    "from sklearn.pipeline import Pipeline\n",
    "from sklearn.metrics import f1_score\n",
    "from sklearn.svm import SVC\n",
    "# Saving Model\n",
    "import pickle\n",
    "\n",
    "# Visualization Packages\n",
    "import seaborn as sns\n",
    "import matplotlib.pyplot as plt\n",
    "sns.set(font_scale=1.3)\n",
    "%matplotlib inline"
   ]
  },
  {
   "cell_type": "code",
   "execution_count": 3,
   "id": "dd9cc358",
   "metadata": {
    "colab": {
     "base_uri": "https://localhost:8080/",
     "height": 206
    },
    "id": "dd9cc358",
    "outputId": "ec8891b8-ae5d-4d28-ca4d-d6c70be19d35"
   },
   "outputs": [
    {
     "data": {
      "text/html": [
       "<div>\n",
       "<style scoped>\n",
       "    .dataframe tbody tr th:only-of-type {\n",
       "        vertical-align: middle;\n",
       "    }\n",
       "\n",
       "    .dataframe tbody tr th {\n",
       "        vertical-align: top;\n",
       "    }\n",
       "\n",
       "    .dataframe thead th {\n",
       "        text-align: right;\n",
       "    }\n",
       "</style>\n",
       "<table border=\"1\" class=\"dataframe\">\n",
       "  <thead>\n",
       "    <tr style=\"text-align: right;\">\n",
       "      <th></th>\n",
       "      <th>emotion</th>\n",
       "      <th>context</th>\n",
       "      <th>response</th>\n",
       "    </tr>\n",
       "  </thead>\n",
       "  <tbody>\n",
       "    <tr>\n",
       "      <th>0</th>\n",
       "      <td>sentimental</td>\n",
       "      <td>أتذكر أنني ذهبت لمشاهدة الألعاب النارية مع أعز...</td>\n",
       "      <td>هل كان هذا صديقًا كنت تحبه أم مجرد أفضل صديق؟</td>\n",
       "    </tr>\n",
       "    <tr>\n",
       "      <th>1</th>\n",
       "      <td>sentimental</td>\n",
       "      <td>كان هذا أفضل صديق. اشتقت لها.</td>\n",
       "      <td>اين ذهبت؟</td>\n",
       "    </tr>\n",
       "    <tr>\n",
       "      <th>2</th>\n",
       "      <td>sentimental</td>\n",
       "      <td>لم نعد نتحدث.</td>\n",
       "      <td>هل كان هذا شيء حدث بسبب جدال؟</td>\n",
       "    </tr>\n",
       "    <tr>\n",
       "      <th>3</th>\n",
       "      <td>afraid</td>\n",
       "      <td>أشعر وكأنني ضرب على جدار فارغ عندما أرى الظلام</td>\n",
       "      <td>أجل؟ أنا حقا لا أرى كيف</td>\n",
       "    </tr>\n",
       "    <tr>\n",
       "      <th>4</th>\n",
       "      <td>afraid</td>\n",
       "      <td>ألا تشعر بذلك .. إنه لأمر عجيب</td>\n",
       "      <td>أصطدم في الواقع بجدران فارغة في كثير من الأحيا...</td>\n",
       "    </tr>\n",
       "  </tbody>\n",
       "</table>\n",
       "</div>"
      ],
      "text/plain": [
       "       emotion                                            context  \\\n",
       "0  sentimental  أتذكر أنني ذهبت لمشاهدة الألعاب النارية مع أعز...   \n",
       "1  sentimental                      كان هذا أفضل صديق. اشتقت لها.   \n",
       "2  sentimental                                      لم نعد نتحدث.   \n",
       "3       afraid     أشعر وكأنني ضرب على جدار فارغ عندما أرى الظلام   \n",
       "4       afraid                     ألا تشعر بذلك .. إنه لأمر عجيب   \n",
       "\n",
       "                                            response  \n",
       "0      هل كان هذا صديقًا كنت تحبه أم مجرد أفضل صديق؟  \n",
       "1                                          اين ذهبت؟  \n",
       "2                      هل كان هذا شيء حدث بسبب جدال؟  \n",
       "3                            أجل؟ أنا حقا لا أرى كيف  \n",
       "4  أصطدم في الواقع بجدران فارغة في كثير من الأحيا...  "
      ]
     },
     "execution_count": 3,
     "metadata": {},
     "output_type": "execute_result"
    }
   ],
   "source": [
    "df=pd.read_csv('arabic-empathetic-conversations.csv')\n",
    "df.head()"
   ]
  },
  {
   "cell_type": "code",
   "execution_count": 4,
   "id": "fb6695df",
   "metadata": {
    "id": "fb6695df"
   },
   "outputs": [],
   "source": [
    "#deop unnecessary columns\n",
    "df.drop('response', axis=1,inplace=True)\n",
    "df.rename(columns={'emotion':'label', 'context':'text'}, inplace = True)"
   ]
  },
  {
   "cell_type": "markdown",
   "id": "2ddeb010",
   "metadata": {
    "id": "2ddeb010"
   },
   "source": [
    "## Assessing"
   ]
  },
  {
   "cell_type": "code",
   "execution_count": 5,
   "id": "7900d8d5",
   "metadata": {
    "colab": {
     "base_uri": "https://localhost:8080/"
    },
    "id": "7900d8d5",
    "outputId": "195daa9f-a7da-4ae3-fa42-e36eb259a09a"
   },
   "outputs": [
    {
     "data": {
      "text/plain": [
       "(36628, 2)"
      ]
     },
     "execution_count": 5,
     "metadata": {},
     "output_type": "execute_result"
    }
   ],
   "source": [
    "#print the shape of the data set\n",
    "df.shape"
   ]
  },
  {
   "cell_type": "code",
   "execution_count": 6,
   "id": "5cc0db65",
   "metadata": {
    "colab": {
     "base_uri": "https://localhost:8080/"
    },
    "id": "5cc0db65",
    "outputId": "9f9323bd-873b-4d16-80c1-9b12e8166e42"
   },
   "outputs": [
    {
     "name": "stdout",
     "output_type": "stream",
     "text": [
      "<class 'pandas.core.frame.DataFrame'>\n",
      "RangeIndex: 36628 entries, 0 to 36627\n",
      "Data columns (total 2 columns):\n",
      " #   Column  Non-Null Count  Dtype \n",
      "---  ------  --------------  ----- \n",
      " 0   label   36628 non-null  object\n",
      " 1   text    36628 non-null  object\n",
      "dtypes: object(2)\n",
      "memory usage: 572.4+ KB\n"
     ]
    }
   ],
   "source": [
    "df.info()"
   ]
  },
  {
   "cell_type": "code",
   "execution_count": 7,
   "id": "cfae968c",
   "metadata": {
    "colab": {
     "base_uri": "https://localhost:8080/"
    },
    "id": "cfae968c",
    "outputId": "4457c790-8d97-494b-94ad-e6f0f1fad103"
   },
   "outputs": [
    {
     "data": {
      "text/plain": [
       "surprised       1886\n",
       "excited         1404\n",
       "angry           1310\n",
       "proud           1301\n",
       "annoyed         1259\n",
       "sad             1258\n",
       "afraid          1201\n",
       "lonely          1197\n",
       "grateful        1196\n",
       "terrified       1186\n",
       "guilty          1172\n",
       "confident       1170\n",
       "anxious         1170\n",
       "disgusted       1164\n",
       "anticipating    1163\n",
       "hopeful         1155\n",
       "furious         1148\n",
       "impressed       1144\n",
       "joyful          1132\n",
       "disappointed    1123\n",
       "nostalgic       1120\n",
       "jealous         1115\n",
       "prepared        1097\n",
       "content         1063\n",
       "devastated      1053\n",
       "embarrassed     1042\n",
       "sentimental      984\n",
       "caring           977\n",
       "trusting         954\n",
       "ashamed          938\n",
       "apprehensive     870\n",
       "faithful         676\n",
       "Name: label, dtype: int64"
      ]
     },
     "execution_count": 7,
     "metadata": {},
     "output_type": "execute_result"
    }
   ],
   "source": [
    "#check if the data is balanced or not\n",
    "df.label.value_counts()"
   ]
  },
  {
   "cell_type": "code",
   "execution_count": 8,
   "id": "f4679609",
   "metadata": {
    "colab": {
     "base_uri": "https://localhost:8080/",
     "height": 291
    },
    "id": "f4679609",
    "outputId": "fb767dd1-8302-461e-b667-5de3067db4f9"
   },
   "outputs": [
    {
     "data": {
      "image/png": "[encoded data removed]",
      "text/plain": [
       "<Figure size 576x288 with 1 Axes>"
      ]
     },
     "metadata": {
      "needs_background": "light"
     },
     "output_type": "display_data"
    }
   ],
   "source": [
    "plt.figure(figsize=(8,4))\n",
    "sns.countplot(x='label', data=df);"
   ]
  },
  {
   "cell_type": "markdown",
   "id": "a4291742",
   "metadata": {
    "id": "a4291742"
   },
   "source": [
    "The differences between the labels is not large so, we can say that the data is balanced"
   ]
  },
  {
   "cell_type": "code",
   "execution_count": 9,
   "id": "8d99a1fa",
   "metadata": {
    "colab": {
     "base_uri": "https://localhost:8080/"
    },
    "id": "8d99a1fa",
    "outputId": "faa7d23d-4920-483b-ed8d-3b83530f5d16"
   },
   "outputs": [
    {
     "data": {
      "text/plain": [
       "label    0\n",
       "text     0\n",
       "dtype: int64"
      ]
     },
     "execution_count": 9,
     "metadata": {},
     "output_type": "execute_result"
    }
   ],
   "source": [
    "#print the number of null values in each column\n",
    "df.isnull().sum()"
   ]
  },
  {
   "cell_type": "code",
   "execution_count": 10,
   "id": "3bad80e5",
   "metadata": {
    "colab": {
     "base_uri": "https://localhost:8080/",
     "height": 50
    },
    "id": "3bad80e5",
    "outputId": "36ddf264-0bef-499a-8c95-a008bab155e4"
   },
   "outputs": [
    {
     "data": {
      "text/html": [
       "<div>\n",
       "<style scoped>\n",
       "    .dataframe tbody tr th:only-of-type {\n",
       "        vertical-align: middle;\n",
       "    }\n",
       "\n",
       "    .dataframe tbody tr th {\n",
       "        vertical-align: top;\n",
       "    }\n",
       "\n",
       "    .dataframe thead th {\n",
       "        text-align: right;\n",
       "    }\n",
       "</style>\n",
       "<table border=\"1\" class=\"dataframe\">\n",
       "  <thead>\n",
       "    <tr style=\"text-align: right;\">\n",
       "      <th></th>\n",
       "      <th>label</th>\n",
       "      <th>text</th>\n",
       "    </tr>\n",
       "  </thead>\n",
       "  <tbody>\n",
       "  </tbody>\n",
       "</table>\n",
       "</div>"
      ],
      "text/plain": [
       "Empty DataFrame\n",
       "Columns: [label, text]\n",
       "Index: []"
      ]
     },
     "execution_count": 10,
     "metadata": {},
     "output_type": "execute_result"
    }
   ],
   "source": [
    "#to get the index of the null value\n",
    "df[df['text'].isnull() == True]"
   ]
  },
  {
   "cell_type": "markdown",
   "id": "53255e0d",
   "metadata": {
    "id": "53255e0d"
   },
   "source": [
    "This label doesn't mean anything because the original text is missing so, we will remove it"
   ]
  },
  {
   "cell_type": "code",
   "execution_count": 11,
   "id": "fdd217ff",
   "metadata": {
    "colab": {
     "base_uri": "https://localhost:8080/"
    },
    "id": "fdd217ff",
    "outputId": "19473e40-8574-406a-8199-eee474f68c44"
   },
   "outputs": [
    {
     "data": {
      "text/plain": [
       "325"
      ]
     },
     "execution_count": 11,
     "metadata": {},
     "output_type": "execute_result"
    }
   ],
   "source": [
    "#print the number of duplicated values \n",
    "df.duplicated().sum()"
   ]
  },
  {
   "cell_type": "code",
   "execution_count": 12,
   "id": "12785ad6",
   "metadata": {
    "colab": {
     "base_uri": "https://localhost:8080/",
     "height": 424
    },
    "id": "12785ad6",
    "outputId": "df281088-495a-4b24-decc-87d1d1b83195",
    "scrolled": true
   },
   "outputs": [
    {
     "data": {
      "text/html": [
       "<div>\n",
       "<style scoped>\n",
       "    .dataframe tbody tr th:only-of-type {\n",
       "        vertical-align: middle;\n",
       "    }\n",
       "\n",
       "    .dataframe tbody tr th {\n",
       "        vertical-align: top;\n",
       "    }\n",
       "\n",
       "    .dataframe thead th {\n",
       "        text-align: right;\n",
       "    }\n",
       "</style>\n",
       "<table border=\"1\" class=\"dataframe\">\n",
       "  <thead>\n",
       "    <tr style=\"text-align: right;\">\n",
       "      <th></th>\n",
       "      <th>label</th>\n",
       "      <th>text</th>\n",
       "    </tr>\n",
       "  </thead>\n",
       "  <tbody>\n",
       "    <tr>\n",
       "      <th>588</th>\n",
       "      <td>terrified</td>\n",
       "      <td>عندما كنت أصغر سنًا ، كان والدي يخافني ويخاف إ...</td>\n",
       "    </tr>\n",
       "    <tr>\n",
       "      <th>996</th>\n",
       "      <td>jealous</td>\n",
       "      <td>أريد أن أكون غنيًا وطويل القامة مثل ليبرون.</td>\n",
       "    </tr>\n",
       "    <tr>\n",
       "      <th>1376</th>\n",
       "      <td>anticipating</td>\n",
       "      <td>لا استطيع الانتظار ليوم الاحد المقبل</td>\n",
       "    </tr>\n",
       "    <tr>\n",
       "      <th>1930</th>\n",
       "      <td>joyful</td>\n",
       "      <td>نعم</td>\n",
       "    </tr>\n",
       "    <tr>\n",
       "      <th>2364</th>\n",
       "      <td>proud</td>\n",
       "      <td>hi</td>\n",
       "    </tr>\n",
       "    <tr>\n",
       "      <th>...</th>\n",
       "      <td>...</td>\n",
       "      <td>...</td>\n",
       "    </tr>\n",
       "    <tr>\n",
       "      <th>36322</th>\n",
       "      <td>grateful</td>\n",
       "      <td>إنه يعمل بجد من أجل عائلتنا حتى أتمكن من البقا...</td>\n",
       "    </tr>\n",
       "    <tr>\n",
       "      <th>36349</th>\n",
       "      <td>sentimental</td>\n",
       "      <td>أعطاني جدي ساعة جيبه</td>\n",
       "    </tr>\n",
       "    <tr>\n",
       "      <th>36423</th>\n",
       "      <td>jealous</td>\n",
       "      <td>أشعر بالغيرة من زميلي في العمل ، فهو ذكي للغاي...</td>\n",
       "    </tr>\n",
       "    <tr>\n",
       "      <th>36577</th>\n",
       "      <td>faithful</td>\n",
       "      <td>الإرشاد المدرسي.</td>\n",
       "    </tr>\n",
       "    <tr>\n",
       "      <th>36582</th>\n",
       "      <td>content</td>\n",
       "      <td>أنا سعيد جدًا بحياتي الآن.</td>\n",
       "    </tr>\n",
       "  </tbody>\n",
       "</table>\n",
       "<p>535 rows × 2 columns</p>\n",
       "</div>"
      ],
      "text/plain": [
       "              label                                               text\n",
       "588       terrified  عندما كنت أصغر سنًا ، كان والدي يخافني ويخاف إ...\n",
       "996         jealous        أريد أن أكون غنيًا وطويل القامة مثل ليبرون.\n",
       "1376   anticipating               لا استطيع الانتظار ليوم الاحد المقبل\n",
       "1930         joyful                                                نعم\n",
       "2364          proud                                                 hi\n",
       "...             ...                                                ...\n",
       "36322      grateful  إنه يعمل بجد من أجل عائلتنا حتى أتمكن من البقا...\n",
       "36349   sentimental                               أعطاني جدي ساعة جيبه\n",
       "36423       jealous  أشعر بالغيرة من زميلي في العمل ، فهو ذكي للغاي...\n",
       "36577      faithful                                   الإرشاد المدرسي.\n",
       "36582       content                         أنا سعيد جدًا بحياتي الآن.\n",
       "\n",
       "[535 rows x 2 columns]"
      ]
     },
     "execution_count": 12,
     "metadata": {},
     "output_type": "execute_result"
    }
   ],
   "source": [
    "#print the rows which are duplicated\n",
    "df[df['text'].duplicated() == True]"
   ]
  },
  {
   "cell_type": "code",
   "execution_count": 13,
   "id": "cebacfa7",
   "metadata": {
    "colab": {
     "base_uri": "https://localhost:8080/",
     "height": 81
    },
    "id": "cebacfa7",
    "outputId": "93adeac9-3207-439a-bf83-4502b3ce5e4f"
   },
   "outputs": [
    {
     "data": {
      "text/html": [
       "<div>\n",
       "<style scoped>\n",
       "    .dataframe tbody tr th:only-of-type {\n",
       "        vertical-align: middle;\n",
       "    }\n",
       "\n",
       "    .dataframe tbody tr th {\n",
       "        vertical-align: top;\n",
       "    }\n",
       "\n",
       "    .dataframe thead th {\n",
       "        text-align: right;\n",
       "    }\n",
       "</style>\n",
       "<table border=\"1\" class=\"dataframe\">\n",
       "  <thead>\n",
       "    <tr style=\"text-align: right;\">\n",
       "      <th></th>\n",
       "      <th>label</th>\n",
       "      <th>text</th>\n",
       "    </tr>\n",
       "  </thead>\n",
       "  <tbody>\n",
       "    <tr>\n",
       "      <th>1236</th>\n",
       "      <td>afraid</td>\n",
       "      <td>اتضح أنه كان غزالًا عالق في الأدغال.</td>\n",
       "    </tr>\n",
       "  </tbody>\n",
       "</table>\n",
       "</div>"
      ],
      "text/plain": [
       "       label                                  text\n",
       "1236  afraid  اتضح أنه كان غزالًا عالق في الأدغال."
      ]
     },
     "execution_count": 13,
     "metadata": {},
     "output_type": "execute_result"
    }
   ],
   "source": [
    "df[df['text'] == df.iloc[1236]['text']]"
   ]
  },
  {
   "cell_type": "code",
   "execution_count": 14,
   "id": "dde7920d",
   "metadata": {
    "id": "dde7920d"
   },
   "outputs": [],
   "source": [
    "#removing duplicated values\n",
    "index = df[df['text'].duplicated() == True].index\n",
    "df.drop(index, axis = 0, inplace = True)"
   ]
  },
  {
   "cell_type": "code",
   "execution_count": 15,
   "id": "8bf41137",
   "metadata": {
    "colab": {
     "base_uri": "https://localhost:8080/"
    },
    "id": "8bf41137",
    "outputId": "343fe6b9-2ae5-43cb-9cf4-5e6570406f92"
   },
   "outputs": [
    {
     "data": {
      "text/plain": [
       "754"
      ]
     },
     "execution_count": 15,
     "metadata": {},
     "output_type": "execute_result"
    }
   ],
   "source": [
    "#are there any stop words in the data?\n",
    "arabic_stopwords = stopwords.words(\"arabic\")\n",
    "len(arabic_stopwords)"
   ]
  },
  {
   "cell_type": "markdown",
   "id": "2af884a0",
   "metadata": {
    "id": "2af884a0"
   },
   "source": [
    "Note that There are different libraries provide a different numbers of arabic stop words like \"nltk\" and \"arabicstopwords\" now we will use nltk's arabic stopwords and we will see the results and if needed we can use \"arabicstopwords\" library which provide the stopwords and it's conjugations"
   ]
  },
  {
   "cell_type": "code",
   "execution_count": 16,
   "id": "eb317c85",
   "metadata": {
    "colab": {
     "base_uri": "https://localhost:8080/"
    },
    "id": "eb317c85",
    "outputId": "a9ae50fb-cb4f-45df-aee5-ab7e9a24ca80"
   },
   "outputs": [
    {
     "data": {
      "text/plain": [
       "2     7751\n",
       "3     6675\n",
       "1     6576\n",
       "4     4613\n",
       "5     3029\n",
       "0     2939\n",
       "6     1882\n",
       "7     1137\n",
       "8      608\n",
       "9      375\n",
       "10     203\n",
       "11     137\n",
       "12      64\n",
       "13      36\n",
       "14      25\n",
       "15      16\n",
       "16      16\n",
       "17       3\n",
       "20       3\n",
       "18       2\n",
       "19       1\n",
       "21       1\n",
       "23       1\n",
       "Name: stop_words, dtype: int64"
      ]
     },
     "execution_count": 16,
     "metadata": {},
     "output_type": "execute_result"
    }
   ],
   "source": [
    "df['stop_words'] = df['text'].apply(lambda x: len(set(x.split()) & set(arabic_stopwords)))\n",
    "df.stop_words.value_counts()"
   ]
  },
  {
   "cell_type": "code",
   "execution_count": 17,
   "id": "d861da6d",
   "metadata": {
    "colab": {
     "base_uri": "https://localhost:8080/",
     "height": 290
    },
    "id": "d861da6d",
    "outputId": "568573c6-1f6b-483b-85ab-a555c64dd29e"
   },
   "outputs": [
    {
     "data": {
      "text/plain": [
       "<AxesSubplot:ylabel='Frequency'>"
      ]
     },
     "execution_count": 17,
     "metadata": {},
     "output_type": "execute_result"
    },
    {
     "data": {
      "image/png": "[encoded data removed]",
      "text/plain": [
       "<Figure size 432x288 with 1 Axes>"
      ]
     },
     "metadata": {
      "needs_background": "light"
     },
     "output_type": "display_data"
    }
   ],
   "source": [
    "df['stop_words'].plot(kind= 'hist')"
   ]
  },
  {
   "cell_type": "markdown",
   "id": "649dd3ea",
   "metadata": {
    "id": "649dd3ea"
   },
   "source": [
    "it seems that the data contains alot of stop words and it should be removed"
   ]
  },
  {
   "cell_type": "markdown",
   "id": "4ce4ca01",
   "metadata": {
    "id": "4ce4ca01"
   },
   "source": [
    "### Assessing Results"
   ]
  },
  {
   "cell_type": "markdown",
   "id": "e40a157a",
   "metadata": {
    "id": "e40a157a"
   },
   "source": [
    "- The data contains null values\n",
    "- The data contains duplicated values\n",
    "- The data is balanced and contains 8 classes\n",
    "- About 20% of the data contains emojis\n",
    "- More than 85% of the text in each records contains stopwords\n",
    "- the data contains Diacritics \n",
    "- The data contains Punctuations, Disapprobation words and hashtags and other things that we should take care during cleaning and preprocessing"
   ]
  },
  {
   "cell_type": "markdown",
   "id": "8bf14746",
   "metadata": {
    "id": "8bf14746"
   },
   "source": [
    "## Cleaning"
   ]
  },
  {
   "cell_type": "markdown",
   "id": "876917e4",
   "metadata": {
    "id": "876917e4"
   },
   "source": [
    "### Functions"
   ]
  },
  {
   "cell_type": "code",
   "execution_count": 18,
   "id": "f4d8fe0d",
   "metadata": {
    "id": "f4d8fe0d"
   },
   "outputs": [],
   "source": [
    "def remove_stop_words(text):\n",
    "    Text=[i for i in str(text).split() if i not in arabic_stopwords]\n",
    "    return \" \".join(Text)\n",
    "\n",
    "def ISRI_Stemmer(text):\n",
    "    #making an object\n",
    "    stemmer = ISRIStemmer()\n",
    "    \n",
    "    #stemming each word\n",
    "    text = stemmer.stem(text)\n",
    "    text = stemmer.pre32(text)\n",
    "    text = stemmer.suf32(text)\n",
    "    \n",
    "    return text\n",
    "\n",
    "def Snowball_stemmer(text):\n",
    "    text = text.split()\n",
    "    #making an object\n",
    "    stemmer = SnowballStemmer(\"arabic\")\n",
    "    \n",
    "    #stemming each word\n",
    "    text=[stemmer.stem(y) for y in text]\n",
    "    \n",
    "    return \" \" .join(text)\n",
    "\n",
    "def Arabic_Light_Stemmer(text):\n",
    "    #making an object\n",
    "    Arabic_Stemmer = ArabicLightStemmer()\n",
    "    \n",
    "    #stemming each word\n",
    "    text=[Arabic_Stemmer.light_stem(y) for y in text.split()]\n",
    "    \n",
    "    return \" \" .join(text)\n",
    "\n",
    "def normalizeArabic(text):\n",
    "    text = text.strip()\n",
    "    text = re.sub(\"ى\", \"ي\", text)\n",
    "    text = re.sub(\"ؤ\", \"ء\", text)\n",
    "    text = re.sub(\"ئ\", \"ء\", text)\n",
    "    text = re.sub(\"ة\", \"ه\", text)\n",
    "    \n",
    "    #remove repetetions\n",
    "    text = re.sub(\"[إأٱآا]\", \"ا\", text)\n",
    "    text = text.replace('وو', 'و')\n",
    "    text = text.replace('يي', 'ي')\n",
    "    text = text.replace('ييي', 'ي')\n",
    "    text = text.replace('اا', 'ا')\n",
    "\n",
    "    ## remove extra whitespace\n",
    "    text = re.sub('\\s+', ' ', text)\n",
    "    \n",
    "    # Remove longation\n",
    "    text = re.sub(r'(.)\\1+', r\"\\1\\1\", text) \n",
    "    \n",
    "    #Strip vowels from a text, include Shadda.\n",
    "    text = araby.strip_tashkeel(text)\n",
    "    \n",
    "    #Strip diacritics from a text, include harakats and small lettres The striped marks are\n",
    "    text = araby.strip_diacritics(text)\n",
    "    text=''.join([i for i in text if not i.isdigit()])\n",
    "    return text\n",
    "\n",
    "def Removing_non_arabic(text):\n",
    "    text = re.sub('[A-Za-z]+',' ',text)\n",
    "    return text\n",
    "\n",
    "def Removing_numbers(text):\n",
    "    text=''.join([i for i in text if not i.isdigit()])\n",
    "    return text\n",
    "\n",
    "def Removing_punctuations(text):\n",
    "    ## Remove punctuations\n",
    "    text = re.sub('[%s]' % re.escape(\"\"\"!\"#$%&'()*+,،-./:;<=>؟?@[\\]^_`{|}~\"\"\"), ' ', text)\n",
    "    text = text.replace('؛',\"\", )\n",
    "    \n",
    "    ## remove extra whitespace\n",
    "    text = re.sub('\\s+', ' ', text)\n",
    "    return text.strip()\n",
    "\n",
    "def Removing_urls(text):\n",
    "    url_pattern = re.compile(r'https?://\\S+|www\\.\\S+')\n",
    "    return url_pattern.sub(r'', text)\n",
    "\n",
    "def remove_extra_Space(text):\n",
    "    ## remove extra whitespace\n",
    "    text = re.sub('\\s+', ' ', text)\n",
    "    return text\n",
    "\n",
    "def remove_small_sentences(df):\n",
    "    for i in range(len(df)):\n",
    "        if len(df.text.iloc[i].split()) < 3:\n",
    "            df.text.iloc[i] = np.nan\n",
    "            "
   ]
  },
  {
   "cell_type": "code",
   "execution_count": 19,
   "id": "1da71270",
   "metadata": {
    "colab": {
     "base_uri": "https://localhost:8080/",
     "height": 206
    },
    "id": "1da71270",
    "outputId": "2d80e974-700b-4aa6-e8d5-5a454582603f"
   },
   "outputs": [
    {
     "data": {
      "text/html": [
       "<div>\n",
       "<style scoped>\n",
       "    .dataframe tbody tr th:only-of-type {\n",
       "        vertical-align: middle;\n",
       "    }\n",
       "\n",
       "    .dataframe tbody tr th {\n",
       "        vertical-align: top;\n",
       "    }\n",
       "\n",
       "    .dataframe thead th {\n",
       "        text-align: right;\n",
       "    }\n",
       "</style>\n",
       "<table border=\"1\" class=\"dataframe\">\n",
       "  <thead>\n",
       "    <tr style=\"text-align: right;\">\n",
       "      <th></th>\n",
       "      <th>label</th>\n",
       "      <th>text</th>\n",
       "      <th>stop_words</th>\n",
       "    </tr>\n",
       "  </thead>\n",
       "  <tbody>\n",
       "    <tr>\n",
       "      <th>0</th>\n",
       "      <td>sentimental</td>\n",
       "      <td>أتذكر أنني ذهبت لمشاهدة الألعاب النارية مع أعز...</td>\n",
       "      <td>9</td>\n",
       "    </tr>\n",
       "    <tr>\n",
       "      <th>1</th>\n",
       "      <td>sentimental</td>\n",
       "      <td>كان هذا أفضل صديق. اشتقت لها.</td>\n",
       "      <td>2</td>\n",
       "    </tr>\n",
       "    <tr>\n",
       "      <th>2</th>\n",
       "      <td>sentimental</td>\n",
       "      <td>لم نعد نتحدث.</td>\n",
       "      <td>1</td>\n",
       "    </tr>\n",
       "    <tr>\n",
       "      <th>3</th>\n",
       "      <td>afraid</td>\n",
       "      <td>أشعر وكأنني ضرب على جدار فارغ عندما أرى الظلام</td>\n",
       "      <td>2</td>\n",
       "    </tr>\n",
       "    <tr>\n",
       "      <th>4</th>\n",
       "      <td>afraid</td>\n",
       "      <td>ألا تشعر بذلك .. إنه لأمر عجيب</td>\n",
       "      <td>2</td>\n",
       "    </tr>\n",
       "  </tbody>\n",
       "</table>\n",
       "</div>"
      ],
      "text/plain": [
       "         label                                               text  stop_words\n",
       "0  sentimental  أتذكر أنني ذهبت لمشاهدة الألعاب النارية مع أعز...           9\n",
       "1  sentimental                      كان هذا أفضل صديق. اشتقت لها.           2\n",
       "2  sentimental                                      لم نعد نتحدث.           1\n",
       "3       afraid     أشعر وكأنني ضرب على جدار فارغ عندما أرى الظلام           2\n",
       "4       afraid                     ألا تشعر بذلك .. إنه لأمر عجيب           2"
      ]
     },
     "execution_count": 19,
     "metadata": {},
     "output_type": "execute_result"
    }
   ],
   "source": [
    "cleaned_data=pd.read_csv('arabic-empathetic-conversations.csv')\n",
    "df.head()"
   ]
  },
  {
   "cell_type": "markdown",
   "id": "47e8bbe6",
   "metadata": {
    "id": "47e8bbe6"
   },
   "source": [
    "**drop unnecessary columns**"
   ]
  },
  {
   "cell_type": "code",
   "execution_count": 20,
   "id": "20d6f4a0",
   "metadata": {
    "id": "20d6f4a0"
   },
   "outputs": [],
   "source": [
    "#deop unnecessary columns\n",
    "cleaned_data.drop('response', axis=1,inplace=True)\n",
    "cleaned_data.rename(columns={'emotion':'label', 'context':'text'}, inplace = True)"
   ]
  },
  {
   "cell_type": "markdown",
   "id": "cb7cd6a7",
   "metadata": {
    "id": "cb7cd6a7"
   },
   "source": [
    "**removing null values**"
   ]
  },
  {
   "cell_type": "code",
   "execution_count": 21,
   "id": "ea3f4d1a",
   "metadata": {
    "colab": {
     "base_uri": "https://localhost:8080/"
    },
    "id": "ea3f4d1a",
    "outputId": "9943d612-bfd9-4501-a1be-56b504b18dd2"
   },
   "outputs": [
    {
     "data": {
      "text/plain": [
       "label         0\n",
       "text          0\n",
       "stop_words    0\n",
       "dtype: int64"
      ]
     },
     "execution_count": 21,
     "metadata": {},
     "output_type": "execute_result"
    }
   ],
   "source": [
    "#Before\n",
    "df.isnull().sum()"
   ]
  },
  {
   "cell_type": "code",
   "execution_count": 22,
   "id": "41bafd35",
   "metadata": {
    "colab": {
     "base_uri": "https://localhost:8080/"
    },
    "id": "41bafd35",
    "outputId": "ed9b139b-6181-425d-c184-0aaa785d9ef9"
   },
   "outputs": [
    {
     "data": {
      "text/plain": [
       "label    0\n",
       "text     0\n",
       "dtype: int64"
      ]
     },
     "execution_count": 22,
     "metadata": {},
     "output_type": "execute_result"
    }
   ],
   "source": [
    "#Ater\n",
    "cleaned_data.isnull().sum()"
   ]
  },
  {
   "cell_type": "markdown",
   "id": "5932e47b",
   "metadata": {
    "id": "5932e47b"
   },
   "source": [
    "**removing duplicated values**"
   ]
  },
  {
   "cell_type": "code",
   "execution_count": 23,
   "id": "84cde057",
   "metadata": {
    "id": "84cde057"
   },
   "outputs": [],
   "source": [
    "index = cleaned_data[cleaned_data['text'].duplicated() == True].index\n",
    "cleaned_data.drop(index, axis = 0, inplace = True)\n",
    "\n",
    "#resetting the index of the data\n",
    "cleaned_data.reset_index(drop=True, inplace = True)"
   ]
  },
  {
   "cell_type": "code",
   "execution_count": 24,
   "id": "b4dd1249",
   "metadata": {
    "colab": {
     "base_uri": "https://localhost:8080/"
    },
    "id": "b4dd1249",
    "outputId": "b23ba503-14db-4d6a-e24b-f3a018c98eec"
   },
   "outputs": [
    {
     "data": {
      "text/plain": [
       "0"
      ]
     },
     "execution_count": 24,
     "metadata": {},
     "output_type": "execute_result"
    }
   ],
   "source": [
    "#Before\n",
    "df.duplicated().sum()"
   ]
  },
  {
   "cell_type": "code",
   "execution_count": 25,
   "id": "c805e358",
   "metadata": {
    "colab": {
     "base_uri": "https://localhost:8080/"
    },
    "id": "c805e358",
    "outputId": "63d322c3-313b-4131-d779-2abb467f83d9"
   },
   "outputs": [
    {
     "data": {
      "text/plain": [
       "0"
      ]
     },
     "execution_count": 25,
     "metadata": {},
     "output_type": "execute_result"
    }
   ],
   "source": [
    "#Ater\n",
    "cleaned_data.duplicated().sum()"
   ]
  },
  {
   "cell_type": "markdown",
   "id": "79807397",
   "metadata": {
    "id": "79807397"
   },
   "source": [
    "**removing arabic stopwords**"
   ]
  },
  {
   "cell_type": "code",
   "execution_count": 26,
   "id": "85533026",
   "metadata": {
    "id": "85533026"
   },
   "outputs": [],
   "source": [
    "cleaned_data.text=cleaned_data.text.apply(lambda text : remove_stop_words(text))"
   ]
  },
  {
   "cell_type": "code",
   "execution_count": 27,
   "id": "d9d2fd56",
   "metadata": {
    "colab": {
     "base_uri": "https://localhost:8080/",
     "height": 35
    },
    "id": "d9d2fd56",
    "outputId": "f9fe26fa-d4f9-49fb-e815-4caabd724825"
   },
   "outputs": [
    {
     "data": {
      "text/plain": [
       "'لم نعد نتحدث.'"
      ]
     },
     "execution_count": 27,
     "metadata": {},
     "output_type": "execute_result"
    }
   ],
   "source": [
    "#Before\n",
    "df.text[2]"
   ]
  },
  {
   "cell_type": "code",
   "execution_count": 28,
   "id": "9c2c7962",
   "metadata": {
    "colab": {
     "base_uri": "https://localhost:8080/",
     "height": 35
    },
    "id": "9c2c7962",
    "outputId": "ef9e7cd0-8575-45ca-dbc4-31eccc57c3a2"
   },
   "outputs": [
    {
     "data": {
      "text/plain": [
       "'أفضل صديق. اشتقت لها.'"
      ]
     },
     "execution_count": 28,
     "metadata": {},
     "output_type": "execute_result"
    }
   ],
   "source": [
    "#After\n",
    "cleaned_data.text[1]"
   ]
  },
  {
   "cell_type": "markdown",
   "id": "a46a3201",
   "metadata": {
    "id": "a46a3201"
   },
   "source": [
    "**Removal of non-Arabic words**"
   ]
  },
  {
   "cell_type": "code",
   "execution_count": 29,
   "id": "5d8e73b6",
   "metadata": {
    "id": "5d8e73b6"
   },
   "outputs": [],
   "source": [
    "cleaned_data.text=cleaned_data.text.apply(lambda text : Removing_non_arabic(text))"
   ]
  },
  {
   "cell_type": "code",
   "execution_count": 30,
   "id": "2f498876",
   "metadata": {
    "colab": {
     "base_uri": "https://localhost:8080/",
     "height": 35
    },
    "id": "2f498876",
    "outputId": "3d085f15-e126-496c-d758-3cbdf2866102"
   },
   "outputs": [
    {
     "data": {
      "text/plain": [
       "'أعلم أنني سأفوز بالميدالية الذهبية في الأولمبياد.'"
      ]
     },
     "execution_count": 30,
     "metadata": {},
     "output_type": "execute_result"
    }
   ],
   "source": [
    "#Before\n",
    "df.text.iloc[10016]"
   ]
  },
  {
   "cell_type": "code",
   "execution_count": 31,
   "id": "dfd5e916",
   "metadata": {
    "colab": {
     "base_uri": "https://localhost:8080/",
     "height": 35
    },
    "id": "dfd5e916",
    "outputId": "fe9deeb9-3ae4-4381-a9c3-1d1e263f6d18"
   },
   "outputs": [
    {
     "data": {
      "text/plain": [
       "'أنني سأفوز بالميدالية الذهبية الأولمبياد.'"
      ]
     },
     "execution_count": 31,
     "metadata": {},
     "output_type": "execute_result"
    }
   ],
   "source": [
    "#After\n",
    "cleaned_data.iloc[10016].text"
   ]
  },
  {
   "cell_type": "markdown",
   "id": "1c9b0b66",
   "metadata": {
    "id": "1c9b0b66"
   },
   "source": [
    "**removing Diacritics**"
   ]
  },
  {
   "cell_type": "code",
   "execution_count": 32,
   "id": "e4d59a53",
   "metadata": {
    "id": "e4d59a53",
    "scrolled": true
   },
   "outputs": [],
   "source": [
    "cleaned_data.text=cleaned_data.text.apply(lambda text : normalizeArabic(text))"
   ]
  },
  {
   "cell_type": "code",
   "execution_count": 33,
   "id": "916f5d03",
   "metadata": {
    "colab": {
     "base_uri": "https://localhost:8080/",
     "height": 35
    },
    "id": "916f5d03",
    "outputId": "eebb83ce-2b1f-4c35-e8f2-3fadab98ab25"
   },
   "outputs": [
    {
     "data": {
      "text/plain": [
       "'لن تصدق أبدًا ما فعلته'"
      ]
     },
     "execution_count": 33,
     "metadata": {},
     "output_type": "execute_result"
    }
   ],
   "source": [
    "df.text.iloc[99]"
   ]
  },
  {
   "cell_type": "code",
   "execution_count": 34,
   "id": "8439ace7",
   "metadata": {
    "colab": {
     "base_uri": "https://localhost:8080/",
     "height": 35
    },
    "id": "8439ace7",
    "outputId": "c4514870-af98-46d4-9122-67ec8fe0dd01"
   },
   "outputs": [
    {
     "data": {
      "text/plain": [
       "'تصدق ابدا فعلته'"
      ]
     },
     "execution_count": 34,
     "metadata": {},
     "output_type": "execute_result"
    }
   ],
   "source": [
    "cleaned_data.text.iloc[99]"
   ]
  },
  {
   "cell_type": "markdown",
   "id": "9418fef4",
   "metadata": {
    "id": "9418fef4"
   },
   "source": [
    "**Removal of numbers**"
   ]
  },
  {
   "cell_type": "code",
   "execution_count": 35,
   "id": "f292c65e",
   "metadata": {
    "id": "f292c65e"
   },
   "outputs": [],
   "source": [
    "cleaned_data.text=cleaned_data.text.apply(lambda text : Removing_numbers(text))"
   ]
  },
  {
   "cell_type": "code",
   "execution_count": 36,
   "id": "d6c2360d",
   "metadata": {
    "colab": {
     "base_uri": "https://localhost:8080/",
     "height": 35
    },
    "id": "d6c2360d",
    "outputId": "254ee261-721d-4e63-abbb-e04d5fb3b615"
   },
   "outputs": [
    {
     "data": {
      "text/plain": [
       "'نعم ، إنه كريم جدا.'"
      ]
     },
     "execution_count": 36,
     "metadata": {},
     "output_type": "execute_result"
    }
   ],
   "source": [
    "#Before\n",
    "df.text.iloc[10015]"
   ]
  },
  {
   "cell_type": "code",
   "execution_count": 37,
   "id": "5cf66916",
   "metadata": {
    "colab": {
     "base_uri": "https://localhost:8080/",
     "height": 35
    },
    "id": "5cf66916",
    "outputId": "ad5d60e4-da31-4b1a-d8f4-2897ab65a0d9"
   },
   "outputs": [
    {
     "data": {
      "text/plain": [
       "'، كريم جدا.'"
      ]
     },
     "execution_count": 37,
     "metadata": {},
     "output_type": "execute_result"
    }
   ],
   "source": [
    "cleaned_data.iloc[10015].text"
   ]
  },
  {
   "cell_type": "code",
   "execution_count": 38,
   "id": "0d3071bc",
   "metadata": {
    "colab": {
     "base_uri": "https://localhost:8080/",
     "height": 35
    },
    "id": "0d3071bc",
    "outputId": "d8fbcb05-845a-4619-ddb9-68d01b08dba4"
   },
   "outputs": [
    {
     "data": {
      "text/plain": [
       "'مرحبا ، العام ، كنت  طالب كليه الهندسه'"
      ]
     },
     "execution_count": 38,
     "metadata": {},
     "output_type": "execute_result"
    }
   ],
   "source": [
    "cleaned_data.iloc[12].text"
   ]
  },
  {
   "cell_type": "markdown",
   "id": "b839921e",
   "metadata": {
    "id": "b839921e"
   },
   "source": [
    "**Removing Hastags**"
   ]
  },
  {
   "cell_type": "code",
   "execution_count": 39,
   "id": "bec66351",
   "metadata": {
    "colab": {
     "base_uri": "https://localhost:8080/"
    },
    "id": "bec66351",
    "outputId": "22836ba7-9004-444f-f45a-e89145b79cf0"
   },
   "outputs": [
    {
     "name": "stdout",
     "output_type": "stream",
     "text": [
      "90\n",
      "47\n",
      "70\n",
      "20\n"
     ]
    }
   ],
   "source": [
    "for i in range(len(cleaned_data)):\n",
    "    index = cleaned_data.text.iloc[i].find(\"#\")\n",
    "    if index != -1:\n",
    "        print(index)"
   ]
  },
  {
   "cell_type": "code",
   "execution_count": 40,
   "id": "cb0aa10f",
   "metadata": {
    "colab": {
     "base_uri": "https://localhost:8080/",
     "height": 35
    },
    "id": "cb0aa10f",
    "outputId": "3323f67b-5301-4cfc-9d93-b85908ae5404"
   },
   "outputs": [
    {
     "data": {
      "text/plain": [
       "'قررت وزوجتي الذهاب رحله دوليه العام الماضي ، وكانت رحله خارج الولايات المتحده. لقد كانت تجربه راءعه ، وكانت واحده افضل واشهر الاشياء قمت الاطلاق.'"
      ]
     },
     "execution_count": 40,
     "metadata": {},
     "output_type": "execute_result"
    }
   ],
   "source": [
    "cleaned_data.iloc[90].text"
   ]
  },
  {
   "cell_type": "markdown",
   "id": "694841c4",
   "metadata": {
    "id": "694841c4"
   },
   "source": [
    "it seems that the data doesn't contains hastgas"
   ]
  },
  {
   "cell_type": "markdown",
   "id": "c1d1e658",
   "metadata": {
    "id": "c1d1e658"
   },
   "source": [
    "**Removal of Links**"
   ]
  },
  {
   "cell_type": "code",
   "execution_count": 41,
   "id": "fcf8ad86",
   "metadata": {
    "id": "fcf8ad86"
   },
   "outputs": [],
   "source": [
    "cleaned_data.text=cleaned_data.text.apply(lambda text : Removing_urls(text))"
   ]
  },
  {
   "cell_type": "markdown",
   "id": "1aa6e6d6",
   "metadata": {
    "id": "1aa6e6d6"
   },
   "source": [
    "**Removing Punctuations**"
   ]
  },
  {
   "cell_type": "code",
   "execution_count": 42,
   "id": "f5e1b111",
   "metadata": {
    "id": "f5e1b111"
   },
   "outputs": [],
   "source": [
    "cleaned_data.text=cleaned_data.text.apply(lambda text : Removing_punctuations(text))"
   ]
  },
  {
   "cell_type": "code",
   "execution_count": 43,
   "id": "5ac494d9",
   "metadata": {
    "colab": {
     "base_uri": "https://localhost:8080/",
     "height": 35
    },
    "id": "5ac494d9",
    "outputId": "210ab7d3-1de7-4878-e5ed-4c22adf5110b"
   },
   "outputs": [
    {
     "data": {
      "text/plain": [
       "'أتذكر أنني ذهبت لمشاهدة الألعاب النارية مع أعز أصدقائي. كانت هذه هي المرة الأولى التي قضينا فيها وقتًا بمفردنا معًا. على الرغم من وجود الكثير من الأشخاص ، إلا أننا شعرنا بأننا الأشخاص الوحيدون في العالم.'"
      ]
     },
     "execution_count": 43,
     "metadata": {},
     "output_type": "execute_result"
    }
   ],
   "source": [
    "#Before\n",
    "df.text.iloc[0]"
   ]
  },
  {
   "cell_type": "code",
   "execution_count": 44,
   "id": "28e1e9ec",
   "metadata": {
    "colab": {
     "base_uri": "https://localhost:8080/",
     "height": 35
    },
    "id": "28e1e9ec",
    "outputId": "b1be88f3-601b-4aca-a6fc-bf879374e3c6"
   },
   "outputs": [
    {
     "data": {
      "text/plain": [
       "'اتذكر انني ذهبت لمشاهده الالعاب الناريه اعز اصدقاءي كانت المره الاولي قضينا وقتا بمفردنا معا الرغم وجود الكثير الاشخاص اننا شعرنا باننا الاشخاص الوحيدون العالم'"
      ]
     },
     "execution_count": 44,
     "metadata": {},
     "output_type": "execute_result"
    }
   ],
   "source": [
    "#After\n",
    "cleaned_data.text.iloc[0]"
   ]
  },
  {
   "cell_type": "markdown",
   "id": "0bac8121",
   "metadata": {
    "id": "0bac8121"
   },
   "source": [
    "**Reducing words to their roots**"
   ]
  },
  {
   "cell_type": "code",
   "execution_count": 45,
   "id": "340d6b48",
   "metadata": {
    "id": "340d6b48"
   },
   "outputs": [],
   "source": [
    "cleaned_data.text=cleaned_data.text.apply(lambda text : Arabic_Light_Stemmer(text))"
   ]
  },
  {
   "cell_type": "code",
   "execution_count": 46,
   "id": "cc11a598",
   "metadata": {
    "colab": {
     "base_uri": "https://localhost:8080/"
    },
    "id": "cc11a598",
    "outputId": "6316e21e-20c6-4053-ff87-9a8c4290c855"
   },
   "outputs": [
    {
     "data": {
      "text/plain": [
       "345"
      ]
     },
     "execution_count": 46,
     "metadata": {},
     "output_type": "execute_result"
    }
   ],
   "source": [
    "cleaned_data.duplicated().sum()"
   ]
  },
  {
   "cell_type": "markdown",
   "id": "f8feb31a",
   "metadata": {
    "id": "f8feb31a"
   },
   "source": [
    "Note that: duplicated value was found when we remove diacritics and non arabic words and punctuations and this because some rows in the dataset only contains stopwords or it contains one or two words and other reasons so, we have to remove the duplicated values again"
   ]
  },
  {
   "cell_type": "code",
   "execution_count": 47,
   "id": "d05132f9",
   "metadata": {
    "id": "d05132f9"
   },
   "outputs": [],
   "source": [
    "index = cleaned_data[cleaned_data['text'].duplicated() == True].index\n",
    "cleaned_data.drop(index, axis = 0, inplace = True)\n",
    "\n",
    "#resetting the index of the data\n",
    "cleaned_data.reset_index(drop=True, inplace = True)"
   ]
  },
  {
   "cell_type": "code",
   "execution_count": 48,
   "id": "f49ed30a",
   "metadata": {
    "colab": {
     "base_uri": "https://localhost:8080/"
    },
    "id": "f49ed30a",
    "outputId": "b1f56312-2650-47b1-bf4d-20a77f13c593"
   },
   "outputs": [
    {
     "data": {
      "text/plain": [
       "0"
      ]
     },
     "execution_count": 48,
     "metadata": {},
     "output_type": "execute_result"
    }
   ],
   "source": [
    "cleaned_data.duplicated().sum()"
   ]
  },
  {
   "cell_type": "markdown",
   "id": "31740772",
   "metadata": {
    "id": "31740772"
   },
   "source": [
    "After removing the duplicated values we will remove every row which contains only one or two words berfore preprocessing"
   ]
  },
  {
   "cell_type": "code",
   "execution_count": 49,
   "id": "f551a4cf",
   "metadata": {
    "id": "f551a4cf"
   },
   "outputs": [],
   "source": [
    "#this function will convert the text which contains one or two words into null value\n",
    "remove_small_sentences(cleaned_data)"
   ]
  },
  {
   "cell_type": "code",
   "execution_count": 50,
   "id": "9fbc5b11",
   "metadata": {
    "colab": {
     "base_uri": "https://localhost:8080/"
    },
    "id": "9fbc5b11",
    "outputId": "a0042e61-7b04-48a3-e1c6-ddb5533c5142"
   },
   "outputs": [
    {
     "data": {
      "text/plain": [
       "label       0\n",
       "text     1130\n",
       "dtype: int64"
      ]
     },
     "execution_count": 50,
     "metadata": {},
     "output_type": "execute_result"
    }
   ],
   "source": [
    "cleaned_data.isnull().sum()"
   ]
  },
  {
   "cell_type": "code",
   "execution_count": 51,
   "id": "5d182a6f",
   "metadata": {
    "id": "5d182a6f"
   },
   "outputs": [],
   "source": [
    "cleaned_data.dropna(inplace = True)"
   ]
  },
  {
   "cell_type": "code",
   "execution_count": 52,
   "id": "6b8cf2af",
   "metadata": {
    "colab": {
     "base_uri": "https://localhost:8080/",
     "height": 424
    },
    "id": "6b8cf2af",
    "outputId": "1d83088e-a858-4b68-c74d-1197ce85998f"
   },
   "outputs": [
    {
     "data": {
      "text/html": [
       "<div>\n",
       "<style scoped>\n",
       "    .dataframe tbody tr th:only-of-type {\n",
       "        vertical-align: middle;\n",
       "    }\n",
       "\n",
       "    .dataframe tbody tr th {\n",
       "        vertical-align: top;\n",
       "    }\n",
       "\n",
       "    .dataframe thead th {\n",
       "        text-align: right;\n",
       "    }\n",
       "</style>\n",
       "<table border=\"1\" class=\"dataframe\">\n",
       "  <thead>\n",
       "    <tr style=\"text-align: right;\">\n",
       "      <th></th>\n",
       "      <th>label</th>\n",
       "      <th>text</th>\n",
       "    </tr>\n",
       "  </thead>\n",
       "  <tbody>\n",
       "    <tr>\n",
       "      <th>0</th>\n",
       "      <td>sentimental</td>\n",
       "      <td>تذكر نن ذهب مشاهد العاب ناريه عز اصدقاء انت مر...</td>\n",
       "    </tr>\n",
       "    <tr>\n",
       "      <th>1</th>\n",
       "      <td>sentimental</td>\n",
       "      <td>فضل صديق اشتق لها</td>\n",
       "    </tr>\n",
       "    <tr>\n",
       "      <th>3</th>\n",
       "      <td>afraid</td>\n",
       "      <td>شعر انن ضرب جدار رغ عندم ظلام</td>\n",
       "    </tr>\n",
       "    <tr>\n",
       "      <th>4</th>\n",
       "      <td>afraid</td>\n",
       "      <td>شعر ذلك امر عجيب</td>\n",
       "    </tr>\n",
       "    <tr>\n",
       "      <th>5</th>\n",
       "      <td>afraid</td>\n",
       "      <td>اعتقد عملي نت تعرق</td>\n",
       "    </tr>\n",
       "    <tr>\n",
       "      <th>...</th>\n",
       "      <td>...</td>\n",
       "      <td>...</td>\n",
       "    </tr>\n",
       "    <tr>\n",
       "      <th>35527</th>\n",
       "      <td>afraid</td>\n",
       "      <td>حترق منزل ليله سابقه اضطرر خراج مي</td>\n",
       "    </tr>\n",
       "    <tr>\n",
       "      <th>35528</th>\n",
       "      <td>sentimental</td>\n",
       "      <td>نت تصفح اشياء عليه ليله ماضيه</td>\n",
       "    </tr>\n",
       "    <tr>\n",
       "      <th>35529</th>\n",
       "      <td>sentimental</td>\n",
       "      <td>جد صور قديمه عندم عتد اطفال ذهاب منزل جد عيد م...</td>\n",
       "    </tr>\n",
       "    <tr>\n",
       "      <th>35530</th>\n",
       "      <td>surprised</td>\n",
       "      <td>استيقظ صباح زوج خبر نه حامل</td>\n",
       "    </tr>\n",
       "    <tr>\n",
       "      <th>35531</th>\n",
       "      <td>surprised</td>\n",
       "      <td>راءع جد قد نا ريد طفل فتر طويل ستطيع انتظار كن...</td>\n",
       "    </tr>\n",
       "  </tbody>\n",
       "</table>\n",
       "<p>34402 rows × 2 columns</p>\n",
       "</div>"
      ],
      "text/plain": [
       "             label                                               text\n",
       "0      sentimental  تذكر نن ذهب مشاهد العاب ناريه عز اصدقاء انت مر...\n",
       "1      sentimental                                  فضل صديق اشتق لها\n",
       "3           afraid                      شعر انن ضرب جدار رغ عندم ظلام\n",
       "4           afraid                                   شعر ذلك امر عجيب\n",
       "5           afraid                                 اعتقد عملي نت تعرق\n",
       "...            ...                                                ...\n",
       "35527       afraid                 حترق منزل ليله سابقه اضطرر خراج مي\n",
       "35528  sentimental                      نت تصفح اشياء عليه ليله ماضيه\n",
       "35529  sentimental  جد صور قديمه عندم عتد اطفال ذهاب منزل جد عيد م...\n",
       "35530    surprised                        استيقظ صباح زوج خبر نه حامل\n",
       "35531    surprised  راءع جد قد نا ريد طفل فتر طويل ستطيع انتظار كن...\n",
       "\n",
       "[34402 rows x 2 columns]"
      ]
     },
     "execution_count": 52,
     "metadata": {},
     "output_type": "execute_result"
    }
   ],
   "source": [
    "cleaned_data"
   ]
  },
  {
   "cell_type": "markdown",
   "id": "kL2HJn2hPDMP",
   "metadata": {
    "id": "kL2HJn2hPDMP"
   },
   "source": [
    "Remove Emoji"
   ]
  },
  {
   "cell_type": "code",
   "execution_count": 53,
   "id": "wYDty7o0PDqj",
   "metadata": {
    "id": "wYDty7o0PDqj"
   },
   "outputs": [],
   "source": [
    "cleaned_data.drop(18210, axis=0, inplace = True)"
   ]
  },
  {
   "cell_type": "markdown",
   "id": "4r2c9yeNNWQG",
   "metadata": {
    "id": "4r2c9yeNNWQG"
   },
   "source": [
    "Label Data to Six Label."
   ]
  },
  {
   "cell_type": "code",
   "execution_count": 54,
   "id": "g3SA00njNWrB",
   "metadata": {
    "id": "g3SA00njNWrB"
   },
   "outputs": [],
   "source": [
    "cleaned_data.loc[cleaned_data.label ==\"angry\", \"label\"]=\"Anger\"\n",
    "cleaned_data.loc[cleaned_data.label ==\"annoyed\", \"label\"]=\"Anger\"\n",
    "cleaned_data.loc[cleaned_data.label ==\"furious\", \"label\"]=\"Anger\"\n",
    "cleaned_data.loc[cleaned_data.label ==\"jealous\", \"label\"]=\"Anger\"\n",
    "cleaned_data.loc[cleaned_data.label ==\"disgusted\", \"label\"]=\"Anger\"\n",
    "\n",
    "cleaned_data.loc[cleaned_data.label ==\"sad\", \"label\"]=\"Sadness\"\n",
    "cleaned_data.loc[cleaned_data.label ==\"lonely\", \"label\"]=\"Sadness\"\n",
    "cleaned_data.loc[cleaned_data.label ==\"guilty\", \"label\"]=\"Sadness\"\n",
    "cleaned_data.loc[cleaned_data.label ==\"disappointed\", \"label\"]=\"Sadness\"\n",
    "cleaned_data.loc[cleaned_data.label ==\"devastated\", \"label\"]=\"Sadness\"\n",
    "cleaned_data.loc[cleaned_data.label ==\"embarrassed\", \"label\"]=\"Sadness\"\n",
    "cleaned_data.loc[cleaned_data.label ==\"ashamed\", \"label\"]=\"Sadness\"\n",
    "\n",
    "cleaned_data.loc[cleaned_data.label ==\"surprised\", \"label\"]=\"Surprise\"\n",
    "cleaned_data.loc[cleaned_data.label ==\"impressed\", \"label\"]=\"Surprise\"\n",
    "\n",
    "\n",
    "cleaned_data.loc[cleaned_data.label ==\"caring\", \"label\"]=\"Love\"\n",
    "cleaned_data.loc[cleaned_data.label ==\"sentimental\", \"label\"]=\"Love\"\n",
    "cleaned_data.loc[cleaned_data.label ==\"trusting\", \"label\"]=\"Love\"\n",
    "cleaned_data.loc[cleaned_data.label ==\"faithful\", \"label\"]=\"Love\"\n",
    "cleaned_data.loc[cleaned_data.label ==\"nostalgic\", \"label\"]=\"Love\"\n",
    "\n",
    "cleaned_data.loc[cleaned_data.label ==\"excited\", \"label\"]=\"joy\"\n",
    "cleaned_data.loc[cleaned_data.label ==\"proud\", \"label\"]=\"joy\"\n",
    "cleaned_data.loc[cleaned_data.label ==\"grateful\", \"label\"]=\"joy\"\n",
    "cleaned_data.loc[cleaned_data.label ==\"confident\", \"label\"]=\"joy\"\n",
    "cleaned_data.loc[cleaned_data.label ==\"hopeful\", \"label\"]=\"joy\"\n",
    "cleaned_data.loc[cleaned_data.label ==\"anticipating\", \"label\"]=\"joy\"\n",
    "cleaned_data.loc[cleaned_data.label ==\"prepared\", \"label\"]=\"joy\"\n",
    "cleaned_data.loc[cleaned_data.label ==\"content\", \"label\"]=\"joy\"\n",
    "cleaned_data.loc[cleaned_data.label ==\"joyful\", \"label\"]=\"joy\"\n",
    "\n",
    "cleaned_data.loc[cleaned_data.label ==\"afraid\", \"label\"]=\"fear\"\n",
    "cleaned_data.loc[cleaned_data.label ==\"terrified\", \"label\"]=\"fear\"\n",
    "cleaned_data.loc[cleaned_data.label ==\"anxious\", \"label\"]=\"fear\"\n",
    "cleaned_data.loc[cleaned_data.label ==\"apprehensive\", \"label\"]=\"fear\""
   ]
  },
  {
   "cell_type": "code",
   "execution_count": 55,
   "id": "05f6d288",
   "metadata": {
    "id": "05f6d288"
   },
   "outputs": [],
   "source": [
    "cleaned_data.to_csv('arabic-empathetic-conversations_ISRI_stemmer_without.csv', index = False, encoding='utf-8-sig')"
   ]
  },
  {
   "cell_type": "markdown",
   "id": "58977c51",
   "metadata": {
    "id": "58977c51"
   },
   "source": [
    "## Modeling"
   ]
  },
  {
   "cell_type": "code",
   "execution_count": 56,
   "id": "6e7ace54",
   "metadata": {
    "id": "6e7ace54"
   },
   "outputs": [],
   "source": [
    "X = cleaned_data.text.values\n",
    "y = cleaned_data.label.values"
   ]
  },
  {
   "cell_type": "code",
   "execution_count": 57,
   "id": "bfd86e0c",
   "metadata": {
    "colab": {
     "base_uri": "https://localhost:8080/"
    },
    "id": "bfd86e0c",
    "outputId": "a0331c68-7a23-41cd-bcaa-6c333f1a5666"
   },
   "outputs": [
    {
     "name": "stdout",
     "output_type": "stream",
     "text": [
      "['تذكر نن ذهب مشاهد العاب ناريه عز اصدقاء انت مره اول قض قت مفرد مع رغم جود كثير اشخاص نن شعر ان اشخاص وحيد عالم'\n",
      " 'فضل صديق اشتق لها' 'شعر انن ضرب جدار رغ عندم ظلام' 'شعر ذلك امر عجيب'\n",
      " 'اعتقد عملي نت تعرق']\n"
     ]
    }
   ],
   "source": [
    "print(X[:5])"
   ]
  },
  {
   "cell_type": "code",
   "execution_count": 58,
   "id": "7855a841",
   "metadata": {
    "colab": {
     "base_uri": "https://localhost:8080/"
    },
    "id": "7855a841",
    "outputId": "8ebcc258-1500-40d2-bb1a-84fb348da0b3"
   },
   "outputs": [
    {
     "name": "stdout",
     "output_type": "stream",
     "text": [
      "['Love' 'Love' 'fear' 'fear' 'fear']\n"
     ]
    }
   ],
   "source": [
    "print(y[:5])"
   ]
  },
  {
   "cell_type": "markdown",
   "id": "702d1cd4",
   "metadata": {
    "id": "702d1cd4"
   },
   "source": [
    "**Creating a pipline using tf-idf for words embedding and different models.**"
   ]
  },
  {
   "cell_type": "code",
   "execution_count": 59,
   "id": "9e798669",
   "metadata": {
    "id": "9e798669"
   },
   "outputs": [],
   "source": [
    "def train_model(model, data, targets):\n",
    "    text_clf = Pipeline([('vect',TfidfVectorizer()),\n",
    "                         ('clf', model)])\n",
    "    text_clf.fit(data, targets)\n",
    "    return text_clf"
   ]
  },
  {
   "cell_type": "code",
   "execution_count": 60,
   "id": "f522610e",
   "metadata": {
    "id": "f522610e"
   },
   "outputs": [],
   "source": [
    "def get_F1(trained_model,X,y):\n",
    "    predicted=trained_model.predict(X)\n",
    "    f1=f1_score(y,predicted, average=None)\n",
    "    return f1"
   ]
  },
  {
   "cell_type": "markdown",
   "id": "dd33e926",
   "metadata": {
    "id": "dd33e926"
   },
   "source": [
    "**Splitting the dataset into the Training set and Test set**"
   ]
  },
  {
   "cell_type": "code",
   "execution_count": 61,
   "id": "b8994c1b",
   "metadata": {
    "id": "b8994c1b"
   },
   "outputs": [],
   "source": [
    "X_train, X_test, y_train, y_test = train_test_split(X,y, test_size=0.2,shuffle=True, random_state=42)"
   ]
  },
  {
   "cell_type": "markdown",
   "id": "d07e2e03",
   "metadata": {
    "id": "d07e2e03"
   },
   "source": [
    "### Logistic Regression"
   ]
  },
  {
   "cell_type": "markdown",
   "id": "0500fba7",
   "metadata": {
    "id": "0500fba7"
   },
   "source": [
    "**Training the Logistic Regression model on the Training set**"
   ]
  },
  {
   "cell_type": "code",
   "execution_count": 62,
   "id": "6f49b655",
   "metadata": {
    "id": "6f49b655",
    "scrolled": true
   },
   "outputs": [],
   "source": [
    "log_reg = train_model(LogisticRegression(random_state = 0), X_train, y_train)"
   ]
  },
  {
   "cell_type": "markdown",
   "id": "63b94f14",
   "metadata": {
    "id": "63b94f14"
   },
   "source": [
    "**Predicting new data**"
   ]
  },
  {
   "cell_type": "code",
   "execution_count": 63,
   "id": "d8935be5",
   "metadata": {
    "colab": {
     "base_uri": "https://localhost:8080/"
    },
    "id": "d8935be5",
    "outputId": "78360d7f-1ee3-452f-d804-39fe42e9bd0f"
   },
   "outputs": [
    {
     "data": {
      "text/plain": [
       "array(['joy'], dtype=object)"
      ]
     },
     "execution_count": 63,
     "metadata": {},
     "output_type": "execute_result"
    }
   ],
   "source": [
    "y_pred=log_reg.predict(['سعيد'])\n",
    "y_pred"
   ]
  },
  {
   "cell_type": "code",
   "execution_count": 64,
   "id": "eaa72142",
   "metadata": {
    "colab": {
     "base_uri": "https://localhost:8080/"
    },
    "id": "eaa72142",
    "outputId": "36ee14ad-16db-4bf4-b261-67058320ffab"
   },
   "outputs": [
    {
     "data": {
      "text/plain": [
       "array(['Sadness'], dtype=object)"
      ]
     },
     "execution_count": 64,
     "metadata": {},
     "output_type": "execute_result"
    }
   ],
   "source": [
    "y_pred=log_reg.predict(['حزن'])\n",
    "y_pred"
   ]
  },
  {
   "cell_type": "code",
   "execution_count": 65,
   "id": "89cccc14",
   "metadata": {
    "colab": {
     "base_uri": "https://localhost:8080/"
    },
    "id": "89cccc14",
    "outputId": "f869ef95-8064-4630-8fb3-ec8df6f005ac"
   },
   "outputs": [
    {
     "data": {
      "text/plain": [
       "array(['joy'], dtype=object)"
      ]
     },
     "execution_count": 65,
     "metadata": {},
     "output_type": "execute_result"
    }
   ],
   "source": [
    "y_pred=log_reg.predict(['مستغرب'])\n",
    "y_pred"
   ]
  },
  {
   "cell_type": "markdown",
   "id": "10bc6b89",
   "metadata": {
    "id": "10bc6b89"
   },
   "source": [
    "**Predicting the Test set results**"
   ]
  },
  {
   "cell_type": "markdown",
   "id": "c05fe513",
   "metadata": {
    "id": "c05fe513"
   },
   "source": [
    "**Measuring the performance**"
   ]
  },
  {
   "cell_type": "code",
   "execution_count": 66,
   "id": "7c1cf122",
   "metadata": {
    "colab": {
     "base_uri": "https://localhost:8080/"
    },
    "id": "7c1cf122",
    "outputId": "494a5992-83b0-491d-f652-e0d4c80a09f4"
   },
   "outputs": [
    {
     "name": "stdout",
     "output_type": "stream",
     "text": [
      "Accuracy:  0.5544252288911495 \n",
      "\n"
     ]
    }
   ],
   "source": [
    "y_pred=log_reg.predict(X_test)\n",
    "log_reg_accuracy = accuracy_score(y_test, y_pred)\n",
    "print('Accuracy: ', log_reg_accuracy,'\\n')"
   ]
  },
  {
   "cell_type": "code",
   "execution_count": 67,
   "id": "b737bfcf",
   "metadata": {
    "colab": {
     "base_uri": "https://localhost:8080/"
    },
    "id": "b737bfcf",
    "outputId": "8fe3a326-3922-462b-e3ba-99d98237f790"
   },
   "outputs": [
    {
     "name": "stdout",
     "output_type": "stream",
     "text": [
      "(27520,)\n",
      "Accuracy:  0.6731468023255814 \n",
      "\n"
     ]
    }
   ],
   "source": [
    "y_pred=log_reg.predict(X_train)\n",
    "print(y_pred.shape)\n",
    "log_reg_accuracy = accuracy_score(y_train, y_pred)\n",
    "print('Accuracy: ', log_reg_accuracy,'\\n')"
   ]
  },
  {
   "cell_type": "code",
   "execution_count": 68,
   "id": "da13e914",
   "metadata": {
    "colab": {
     "base_uri": "https://localhost:8080/",
     "height": 338
    },
    "id": "da13e914",
    "outputId": "af8dfad1-ac59-4576-eb92-ac214d2264da"
   },
   "outputs": [
    {
     "ename": "ValueError",
     "evalue": "Found input variables with inconsistent numbers of samples: [6881, 27520]",
     "output_type": "error",
     "traceback": [
      "\u001b[1;31m---------------------------------------------------------------------------\u001b[0m",
      "\u001b[1;31mValueError\u001b[0m                                Traceback (most recent call last)",
      "\u001b[1;32m<ipython-input-68-cd1ca34849f2>\u001b[0m in \u001b[0;36m<module>\u001b[1;34m\u001b[0m\n\u001b[0;32m      1\u001b[0m \u001b[1;31m##Classification Report\u001b[0m\u001b[1;33m\u001b[0m\u001b[1;33m\u001b[0m\u001b[1;33m\u001b[0m\u001b[0m\n\u001b[1;32m----> 2\u001b[1;33m \u001b[0mprint\u001b[0m\u001b[1;33m(\u001b[0m\u001b[0mclassification_report\u001b[0m\u001b[1;33m(\u001b[0m\u001b[0my_test\u001b[0m\u001b[1;33m,\u001b[0m\u001b[0my_pred\u001b[0m\u001b[1;33m)\u001b[0m\u001b[1;33m)\u001b[0m\u001b[1;33m\u001b[0m\u001b[1;33m\u001b[0m\u001b[0m\n\u001b[0m",
      "\u001b[1;32m~\\anaconda3\\lib\\site-packages\\sklearn\\utils\\validation.py\u001b[0m in \u001b[0;36minner_f\u001b[1;34m(*args, **kwargs)\u001b[0m\n\u001b[0;32m     61\u001b[0m             \u001b[0mextra_args\u001b[0m \u001b[1;33m=\u001b[0m \u001b[0mlen\u001b[0m\u001b[1;33m(\u001b[0m\u001b[0margs\u001b[0m\u001b[1;33m)\u001b[0m \u001b[1;33m-\u001b[0m \u001b[0mlen\u001b[0m\u001b[1;33m(\u001b[0m\u001b[0mall_args\u001b[0m\u001b[1;33m)\u001b[0m\u001b[1;33m\u001b[0m\u001b[1;33m\u001b[0m\u001b[0m\n\u001b[0;32m     62\u001b[0m             \u001b[1;32mif\u001b[0m \u001b[0mextra_args\u001b[0m \u001b[1;33m<=\u001b[0m \u001b[1;36m0\u001b[0m\u001b[1;33m:\u001b[0m\u001b[1;33m\u001b[0m\u001b[1;33m\u001b[0m\u001b[0m\n\u001b[1;32m---> 63\u001b[1;33m                 \u001b[1;32mreturn\u001b[0m \u001b[0mf\u001b[0m\u001b[1;33m(\u001b[0m\u001b[1;33m*\u001b[0m\u001b[0margs\u001b[0m\u001b[1;33m,\u001b[0m \u001b[1;33m**\u001b[0m\u001b[0mkwargs\u001b[0m\u001b[1;33m)\u001b[0m\u001b[1;33m\u001b[0m\u001b[1;33m\u001b[0m\u001b[0m\n\u001b[0m\u001b[0;32m     64\u001b[0m \u001b[1;33m\u001b[0m\u001b[0m\n\u001b[0;32m     65\u001b[0m             \u001b[1;31m# extra_args > 0\u001b[0m\u001b[1;33m\u001b[0m\u001b[1;33m\u001b[0m\u001b[1;33m\u001b[0m\u001b[0m\n",
      "\u001b[1;32m~\\anaconda3\\lib\\site-packages\\sklearn\\metrics\\_classification.py\u001b[0m in \u001b[0;36mclassification_report\u001b[1;34m(y_true, y_pred, labels, target_names, sample_weight, digits, output_dict, zero_division)\u001b[0m\n\u001b[0;32m   1964\u001b[0m     \"\"\"\n\u001b[0;32m   1965\u001b[0m \u001b[1;33m\u001b[0m\u001b[0m\n\u001b[1;32m-> 1966\u001b[1;33m     \u001b[0my_type\u001b[0m\u001b[1;33m,\u001b[0m \u001b[0my_true\u001b[0m\u001b[1;33m,\u001b[0m \u001b[0my_pred\u001b[0m \u001b[1;33m=\u001b[0m \u001b[0m_check_targets\u001b[0m\u001b[1;33m(\u001b[0m\u001b[0my_true\u001b[0m\u001b[1;33m,\u001b[0m \u001b[0my_pred\u001b[0m\u001b[1;33m)\u001b[0m\u001b[1;33m\u001b[0m\u001b[1;33m\u001b[0m\u001b[0m\n\u001b[0m\u001b[0;32m   1967\u001b[0m \u001b[1;33m\u001b[0m\u001b[0m\n\u001b[0;32m   1968\u001b[0m     \u001b[1;32mif\u001b[0m \u001b[0mlabels\u001b[0m \u001b[1;32mis\u001b[0m \u001b[1;32mNone\u001b[0m\u001b[1;33m:\u001b[0m\u001b[1;33m\u001b[0m\u001b[1;33m\u001b[0m\u001b[0m\n",
      "\u001b[1;32m~\\anaconda3\\lib\\site-packages\\sklearn\\metrics\\_classification.py\u001b[0m in \u001b[0;36m_check_targets\u001b[1;34m(y_true, y_pred)\u001b[0m\n\u001b[0;32m     81\u001b[0m     \u001b[0my_pred\u001b[0m \u001b[1;33m:\u001b[0m \u001b[0marray\u001b[0m \u001b[1;32mor\u001b[0m \u001b[0mindicator\u001b[0m \u001b[0mmatrix\u001b[0m\u001b[1;33m\u001b[0m\u001b[1;33m\u001b[0m\u001b[0m\n\u001b[0;32m     82\u001b[0m     \"\"\"\n\u001b[1;32m---> 83\u001b[1;33m     \u001b[0mcheck_consistent_length\u001b[0m\u001b[1;33m(\u001b[0m\u001b[0my_true\u001b[0m\u001b[1;33m,\u001b[0m \u001b[0my_pred\u001b[0m\u001b[1;33m)\u001b[0m\u001b[1;33m\u001b[0m\u001b[1;33m\u001b[0m\u001b[0m\n\u001b[0m\u001b[0;32m     84\u001b[0m     \u001b[0mtype_true\u001b[0m \u001b[1;33m=\u001b[0m \u001b[0mtype_of_target\u001b[0m\u001b[1;33m(\u001b[0m\u001b[0my_true\u001b[0m\u001b[1;33m)\u001b[0m\u001b[1;33m\u001b[0m\u001b[1;33m\u001b[0m\u001b[0m\n\u001b[0;32m     85\u001b[0m     \u001b[0mtype_pred\u001b[0m \u001b[1;33m=\u001b[0m \u001b[0mtype_of_target\u001b[0m\u001b[1;33m(\u001b[0m\u001b[0my_pred\u001b[0m\u001b[1;33m)\u001b[0m\u001b[1;33m\u001b[0m\u001b[1;33m\u001b[0m\u001b[0m\n",
      "\u001b[1;32m~\\anaconda3\\lib\\site-packages\\sklearn\\utils\\validation.py\u001b[0m in \u001b[0;36mcheck_consistent_length\u001b[1;34m(*arrays)\u001b[0m\n\u001b[0;32m    260\u001b[0m     \u001b[0muniques\u001b[0m \u001b[1;33m=\u001b[0m \u001b[0mnp\u001b[0m\u001b[1;33m.\u001b[0m\u001b[0munique\u001b[0m\u001b[1;33m(\u001b[0m\u001b[0mlengths\u001b[0m\u001b[1;33m)\u001b[0m\u001b[1;33m\u001b[0m\u001b[1;33m\u001b[0m\u001b[0m\n\u001b[0;32m    261\u001b[0m     \u001b[1;32mif\u001b[0m \u001b[0mlen\u001b[0m\u001b[1;33m(\u001b[0m\u001b[0muniques\u001b[0m\u001b[1;33m)\u001b[0m \u001b[1;33m>\u001b[0m \u001b[1;36m1\u001b[0m\u001b[1;33m:\u001b[0m\u001b[1;33m\u001b[0m\u001b[1;33m\u001b[0m\u001b[0m\n\u001b[1;32m--> 262\u001b[1;33m         raise ValueError(\"Found input variables with inconsistent numbers of\"\n\u001b[0m\u001b[0;32m    263\u001b[0m                          \" samples: %r\" % [int(l) for l in lengths])\n\u001b[0;32m    264\u001b[0m \u001b[1;33m\u001b[0m\u001b[0m\n",
      "\u001b[1;31mValueError\u001b[0m: Found input variables with inconsistent numbers of samples: [6881, 27520]"
     ]
    }
   ],
   "source": [
    "##Classification Report\n",
    "print(classification_report(y_test,y_pred))"
   ]
  },
  {
   "cell_type": "markdown",
   "id": "02f0f6de",
   "metadata": {
    "id": "02f0f6de"
   },
   "source": [
    "### Decision Tree"
   ]
  },
  {
   "cell_type": "markdown",
   "id": "0aad2f79",
   "metadata": {
    "id": "0aad2f79"
   },
   "source": [
    "**Training the Decision Tree model on the Training set**"
   ]
  },
  {
   "cell_type": "code",
   "execution_count": null,
   "id": "70a637ed",
   "metadata": {
    "id": "70a637ed"
   },
   "outputs": [],
   "source": [
    "DT = train_model(DecisionTreeClassifier(random_state = 0), X_train, y_train)"
   ]
  },
  {
   "cell_type": "markdown",
   "id": "30aa1e94",
   "metadata": {
    "id": "30aa1e94"
   },
   "source": [
    "**Predicting the Test set results**"
   ]
  },
  {
   "cell_type": "code",
   "execution_count": null,
   "id": "a2b8e0f4",
   "metadata": {
    "id": "a2b8e0f4"
   },
   "outputs": [],
   "source": [
    "y_pred=DT.predict(X_test)\n",
    "DT_accuracy = accuracy_score(y_test, y_pred)\n",
    "print('Accuracy: ', DT_accuracy,'\\n')"
   ]
  },
  {
   "cell_type": "code",
   "execution_count": null,
   "id": "4ca842d4",
   "metadata": {
    "id": "4ca842d4"
   },
   "outputs": [],
   "source": [
    "y_pred=DT.predict(X_train)\n",
    "DT_accuracy = accuracy_score(y_train, y_pred)\n",
    "print('Accuracy: ', DT_accuracy,'\\n')"
   ]
  },
  {
   "cell_type": "code",
   "execution_count": null,
   "id": "49c4eab8",
   "metadata": {
    "id": "49c4eab8"
   },
   "outputs": [],
   "source": [
    "f1_Score = get_F1(DT, X_test ,y_test)\n",
    "pd.DataFrame(f1_Score, index=df.label.unique(), columns=['F1 score'])"
   ]
  },
  {
   "cell_type": "code",
   "execution_count": null,
   "id": "76bbc43f",
   "metadata": {
    "id": "76bbc43f"
   },
   "outputs": [],
   "source": [
    "##Classification Report\n",
    "print(classification_report(y_test, y_pred))"
   ]
  },
  {
   "cell_type": "markdown",
   "id": "9e3eb9bc",
   "metadata": {
    "id": "9e3eb9bc"
   },
   "source": [
    "### Support Vector Machine"
   ]
  },
  {
   "cell_type": "markdown",
   "id": "95e8d7a6",
   "metadata": {
    "id": "95e8d7a6"
   },
   "source": [
    "**Training the Support Vector Machine model on the Training set**"
   ]
  },
  {
   "cell_type": "code",
   "execution_count": null,
   "id": "9e895adb",
   "metadata": {
    "id": "9e895adb"
   },
   "outputs": [],
   "source": [
    "SVM = train_model(SVC(random_state = 0), X_train, y_train)"
   ]
  },
  {
   "cell_type": "markdown",
   "id": "2aa412fb",
   "metadata": {
    "id": "2aa412fb"
   },
   "source": [
    "**Predicting the Test set results**"
   ]
  },
  {
   "cell_type": "code",
   "execution_count": null,
   "id": "9719d0ae",
   "metadata": {
    "id": "9719d0ae"
   },
   "outputs": [],
   "source": [
    "y_pred=SVM.predict(X_test)\n",
    "SVM_accuracy = accuracy_score(y_test, y_pred)\n",
    "print('Accuracy: ', SVM_accuracy,'\\n')"
   ]
  },
  {
   "cell_type": "code",
   "execution_count": null,
   "id": "d2829dd4",
   "metadata": {
    "id": "d2829dd4"
   },
   "outputs": [],
   "source": [
    "y_pred=SVM.predict(X_train)\n",
    "SVM_accuracy = accuracy_score(y_train, y_pred)\n",
    "print('Accuracy: ', SVM_accuracy,'\\n')"
   ]
  },
  {
   "cell_type": "code",
   "execution_count": null,
   "id": "95f27685",
   "metadata": {
    "id": "95f27685",
    "scrolled": true
   },
   "outputs": [],
   "source": [
    "f1_Score = get_F1(SVM,X_test,y_test)\n",
    "pd.DataFrame(f1_Score, index=df.label.unique(), columns=['F1 score'])"
   ]
  },
  {
   "cell_type": "code",
   "execution_count": null,
   "id": "3cfec63f",
   "metadata": {
    "id": "3cfec63f"
   },
   "outputs": [],
   "source": [
    "##Classification Report\n",
    "print(classification_report(y_test, y_pred))"
   ]
  },
  {
   "cell_type": "markdown",
   "id": "b72db07c",
   "metadata": {
    "id": "b72db07c"
   },
   "source": [
    "### Random Forest"
   ]
  },
  {
   "cell_type": "markdown",
   "id": "e63bcec4",
   "metadata": {
    "id": "e63bcec4"
   },
   "source": [
    "**Training the Random Forest model on the Training set**"
   ]
  },
  {
   "cell_type": "code",
   "execution_count": null,
   "id": "c7612c5c",
   "metadata": {
    "id": "c7612c5c"
   },
   "outputs": [],
   "source": [
    "RF = train_model(RandomForestClassifier(random_state = 0), X_train, y_train)"
   ]
  },
  {
   "cell_type": "markdown",
   "id": "c03f48a7",
   "metadata": {
    "id": "c03f48a7"
   },
   "source": [
    "**Predicting the Test set results**"
   ]
  },
  {
   "cell_type": "code",
   "execution_count": null,
   "id": "a71ee8c2",
   "metadata": {
    "id": "a71ee8c2"
   },
   "outputs": [],
   "source": [
    "y_pred=RF.predict(X_test)"
   ]
  },
  {
   "cell_type": "markdown",
   "id": "0041eb17",
   "metadata": {
    "id": "0041eb17"
   },
   "source": [
    "**Measuring the performance**"
   ]
  },
  {
   "cell_type": "code",
   "execution_count": null,
   "id": "3c790314",
   "metadata": {
    "id": "3c790314"
   },
   "outputs": [],
   "source": [
    "RF_accuracy = accuracy_score(y_test, y_pred)\n",
    "print('Accuracy: ', RF_accuracy,'\\n')"
   ]
  },
  {
   "cell_type": "code",
   "execution_count": null,
   "id": "a20a881a",
   "metadata": {
    "id": "a20a881a"
   },
   "outputs": [],
   "source": [
    "y_pred=RF.predict(X_train)\n",
    "RF_accuracy = accuracy_score(y_train, y_pred)\n",
    "print('Accuracy: ', RF_accuracy,'\\n')"
   ]
  },
  {
   "cell_type": "code",
   "execution_count": null,
   "id": "bfb3ca6d",
   "metadata": {
    "id": "bfb3ca6d"
   },
   "outputs": [],
   "source": [
    "f1_Score = get_F1(RF, X_test, y_test)\n",
    "pd.DataFrame(f1_Score, index=df.label.unique(), columns=['F1 score'])"
   ]
  },
  {
   "cell_type": "code",
   "execution_count": null,
   "id": "6ccfa0b3",
   "metadata": {
    "id": "6ccfa0b3",
    "scrolled": true
   },
   "outputs": [],
   "source": [
    "##Classification Report\n",
    "print(classification_report(y_test, y_pred))"
   ]
  },
  {
   "cell_type": "code",
   "execution_count": null,
   "id": "9291e3ac",
   "metadata": {
    "id": "9291e3ac"
   },
   "outputs": [],
   "source": [
    "models = pd.DataFrame({\n",
    "    'Model': ['Logistic Regression', 'Decision Tree','Support Vector Machine','Random Forest'],\n",
    "    'Accuracy': [log_reg_accuracy.round(2), DT_accuracy.round(2), SVM_accuracy.round(2), RF_accuracy.round(2)]})\n",
    "\n",
    "models.sort_values(by='Accuracy', ascending=False).reset_index().drop(['index'], axis=1)"
   ]
  }
 ],
 "metadata": {
  "accelerator": "GPU",
  "colab": {
   "collapsed_sections": [
    "4ce4ca01",
    "d07e2e03",
    "02f0f6de",
    "9e3eb9bc",
    "b72db07c"
   ],
   "provenance": []
  },
  "kernelspec": {
   "display_name": "Python 3",
   "language": "python",
   "name": "python3"
  },
  "language_info": {
   "codemirror_mode": {
    "name": "ipython",
    "version": 3
   },
   "file_extension": ".py",
   "mimetype": "text/x-python",
   "name": "python",
   "nbconvert_exporter": "python",
   "pygments_lexer": "ipython3",
   "version": "3.8.8"
  }
 },
 "nbformat": 4,
 "nbformat_minor": 5
}
